{
 "cells": [
  {
   "cell_type": "code",
   "execution_count": 1,
   "id": "3f6a9ee0",
   "metadata": {},
   "outputs": [
    {
     "name": "stdout",
     "output_type": "stream",
     "text": [
      "yes\n"
     ]
    }
   ],
   "source": [
    "x = 0\n",
    "y = 5\n",
    "\n",
    "if x < y :\n",
    "    print('yes')"
   ]
  },
  {
   "cell_type": "code",
   "execution_count": 2,
   "id": "00c3983b",
   "metadata": {},
   "outputs": [],
   "source": [
    "if x > y :\n",
    "    print('yes')"
   ]
  },
  {
   "cell_type": "code",
   "execution_count": 3,
   "id": "10ad6b26",
   "metadata": {},
   "outputs": [
    {
     "name": "stdout",
     "output_type": "stream",
     "text": [
      "yes\n"
     ]
    }
   ],
   "source": [
    "if 'aul' in 'braul':\n",
    "    print('yes')\n"
   ]
  },
  {
   "cell_type": "code",
   "execution_count": 4,
   "id": "0ab7a7da",
   "metadata": {},
   "outputs": [
    {
     "name": "stdout",
     "output_type": "stream",
     "text": [
      "yes\n",
      "yes\n",
      "yes\n"
     ]
    }
   ],
   "source": [
    "x = 0\n",
    "y = 5\n",
    "\n",
    "if x < y :\n",
    "    print('yes')\n",
    "if y < x :\n",
    "    print('yes')\n",
    "if x:\n",
    "    print('yes')\n",
    "if y :\n",
    "    print('yes')\n",
    "if 'aul' in 'grault':\n",
    "    print('yes')\n",
    "if 'quux' in ['foo','bar','baz']:\n",
    "    print('yes')"
   ]
  },
  {
   "cell_type": "code",
   "execution_count": 5,
   "id": "25527764",
   "metadata": {},
   "outputs": [
    {
     "name": "stdout",
     "output_type": "stream",
     "text": [
      "After conditional\n"
     ]
    }
   ],
   "source": [
    "if 'foo' in ['bar','baz','qux']:\n",
    "    print('Expression was true')\n",
    "    print('Executing statement in suite')\n",
    "    print('...')\n",
    "    print('Done.')\n",
    "print('After conditional')"
   ]
  },
  {
   "cell_type": "code",
   "execution_count": 6,
   "id": "0b1e1287",
   "metadata": {},
   "outputs": [
    {
     "name": "stdout",
     "output_type": "stream",
     "text": [
      "Outer condition is true\n",
      "Between inner condition\n",
      "Inner condiiton 2\n",
      "End of outer condition\n",
      "After outer condition\n"
     ]
    }
   ],
   "source": [
    "if 'foo' in ['foo','bar','baz']:\n",
    "    print('Outer condition is true')\n",
    "    \n",
    "    if 10>20:\n",
    "        print('Inner condition 1')\n",
    "    print('Between inner condition')\n",
    "    if 10<20:\n",
    "        print('Inner condiiton 2')\n",
    "    \n",
    "    print('End of outer condition')\n",
    "print('After outer condition')"
   ]
  },
  {
   "cell_type": "code",
   "execution_count": 7,
   "id": "8794e31e",
   "metadata": {},
   "outputs": [
    {
     "name": "stdout",
     "output_type": "stream",
     "text": [
      "(first suite)\n",
      "x is small\n"
     ]
    }
   ],
   "source": [
    "x = 20\n",
    "if x < 50:\n",
    "    print('(first suite)')\n",
    "    print('x is small')\n",
    "else :\n",
    "    print('(second suite)')\n",
    "    print('x is large')"
   ]
  },
  {
   "cell_type": "code",
   "execution_count": 8,
   "id": "df36406d",
   "metadata": {},
   "outputs": [
    {
     "name": "stdout",
     "output_type": "stream",
     "text": [
      "(second suite)\n",
      "x is large\n"
     ]
    }
   ],
   "source": [
    "x = 120\n",
    "if x < 50:\n",
    "    print('(first suite)')\n",
    "    print('x is small')\n",
    "else :\n",
    "    print('(second suite)')\n",
    "    print('x is large')"
   ]
  },
  {
   "cell_type": "code",
   "execution_count": 9,
   "id": "f6c984a3",
   "metadata": {},
   "outputs": [
    {
     "name": "stdout",
     "output_type": "stream",
     "text": [
      "uang tidak cukup\n"
     ]
    }
   ],
   "source": [
    "hargaBuku = 20000\n",
    "hargaMajalah = 5000\n",
    "uang = 2000\n",
    "\n",
    "if uang > hargaBuku:\n",
    "    print('beli buku')\n",
    "else :\n",
    "    print('uang tidak cukup')"
   ]
  },
  {
   "cell_type": "code",
   "execution_count": 10,
   "id": "03a2fe03",
   "metadata": {},
   "outputs": [
    {
     "name": "stdout",
     "output_type": "stream",
     "text": [
      "uang tidak cukup\n"
     ]
    }
   ],
   "source": [
    "hargaBuku = 20000\n",
    "hargaMajalah = 5000\n",
    "uang = 2000\n",
    "\n",
    "if uang > hargaBuku:\n",
    "    print('beli buku')\n",
    "elif uang > hargaMajalah :\n",
    "    print('beli majalah')\n",
    "else :\n",
    "    print('uang tidak cukup')"
   ]
  },
  {
   "cell_type": "code",
   "execution_count": 11,
   "id": "eac24a71",
   "metadata": {},
   "outputs": [
    {
     "name": "stdout",
     "output_type": "stream",
     "text": [
      "beli majalah\n"
     ]
    }
   ],
   "source": [
    "hargaBuku = 20000\n",
    "hargaMajalah = 5000\n",
    "uang = 2000\n",
    "\n",
    "if uang > hargaBuku:\n",
    "    print('beli buku')\n",
    "elif hargaBuku > hargaMajalah :\n",
    "    print('beli majalah')\n",
    "else :\n",
    "    print('uang tidak cukup')"
   ]
  },
  {
   "cell_type": "code",
   "execution_count": 12,
   "id": "e61a660d",
   "metadata": {},
   "outputs": [
    {
     "name": "stdout",
     "output_type": "stream",
     "text": [
      "Hello Hacktiv8\n"
     ]
    }
   ],
   "source": [
    "name = 'Hacktiv8'\n",
    "\n",
    "if name == 'Fred':\n",
    "    print('Hello Fred')\n",
    "elif name == 'Xander':\n",
    "    print('Hello Xander')\n",
    "elif name == 'Hacktiv8':\n",
    "    print('Hello Hacktiv8')\n",
    "elif name == 'Arnold':\n",
    "    print('Hello Arnold')\n",
    "else:\n",
    "    print(\"I don't know who you are\")"
   ]
  },
  {
   "cell_type": "code",
   "execution_count": 13,
   "id": "c831f719",
   "metadata": {},
   "outputs": [
    {
     "name": "stdout",
     "output_type": "stream",
     "text": [
      "foo\n"
     ]
    }
   ],
   "source": [
    "if 'a' in 'bar':\n",
    "    print('foo')\n",
    "elif 1/0:\n",
    "    print('wont happen')\n",
    "elif var:\n",
    "    print('wont happen')"
   ]
  },
  {
   "cell_type": "code",
   "execution_count": 14,
   "id": "1a32c8f2",
   "metadata": {},
   "outputs": [
    {
     "name": "stdout",
     "output_type": "stream",
     "text": [
      "1\n",
      "2\n",
      "3\n"
     ]
    }
   ],
   "source": [
    "if 'f' in 'foo':print('1');print('2');print('3')"
   ]
  },
  {
   "cell_type": "code",
   "execution_count": 16,
   "id": "3630e7d8",
   "metadata": {},
   "outputs": [
    {
     "name": "stdout",
     "output_type": "stream",
     "text": [
      "qux\n",
      "quux\n"
     ]
    }
   ],
   "source": [
    "x = 2\n",
    "if x == 1: print('foo');print('bar');print('baz')\n",
    "elif x == 2:print('qux');print('quux')\n",
    "else:print('corge');print('grault')"
   ]
  },
  {
   "cell_type": "code",
   "execution_count": 18,
   "id": "37f536bd",
   "metadata": {},
   "outputs": [
    {
     "name": "stdout",
     "output_type": "stream",
     "text": [
      "corge\n",
      "grault\n"
     ]
    }
   ],
   "source": [
    "x = 3\n",
    "if x == 1: print('foo');print('bar');print('baz')\n",
    "elif x == 2:print('qux');print('quux')\n",
    "else:print('corge');print('grault')"
   ]
  },
  {
   "cell_type": "code",
   "execution_count": 19,
   "id": "8665a1c3",
   "metadata": {},
   "outputs": [
    {
     "name": "stdout",
     "output_type": "stream",
     "text": [
      "corge\n",
      "grault\n"
     ]
    }
   ],
   "source": [
    "x = 3\n",
    "if x == 1: \n",
    "    print('foo')\n",
    "    print('bar')\n",
    "    print('baz')\n",
    "elif x == 2:\n",
    "    print('qux')\n",
    "    print('quux')\n",
    "else:\n",
    "    print('corge')\n",
    "    print('grault')"
   ]
  },
  {
   "cell_type": "code",
   "execution_count": 20,
   "id": "69951fd4",
   "metadata": {},
   "outputs": [
    {
     "name": "stdout",
     "output_type": "stream",
     "text": [
      "Let's go to the beach\n"
     ]
    }
   ],
   "source": [
    "raining = False\n",
    "print(\"Let's go to the\",'beach' if not raining else 'library')"
   ]
  },
  {
   "cell_type": "code",
   "execution_count": 21,
   "id": "0373ec66",
   "metadata": {},
   "outputs": [
    {
     "name": "stdout",
     "output_type": "stream",
     "text": [
      "Let's go to the library\n"
     ]
    }
   ],
   "source": [
    "raining = True\n",
    "print(\"Let's go to the\",'beach' if not raining else 'library')"
   ]
  },
  {
   "cell_type": "code",
   "execution_count": 22,
   "id": "ba6526c2",
   "metadata": {},
   "outputs": [],
   "source": [
    "age = 12\n",
    "s = 'teen'if age<21 else 'adult'"
   ]
  },
  {
   "cell_type": "code",
   "execution_count": 23,
   "id": "e834e7e3",
   "metadata": {},
   "outputs": [
    {
     "data": {
      "text/plain": [
       "'teen'"
      ]
     },
     "execution_count": 23,
     "metadata": {},
     "output_type": "execute_result"
    }
   ],
   "source": [
    "age = 12\n",
    "s = 'teen'if age<21 else 'adult'\n",
    "s"
   ]
  },
  {
   "cell_type": "code",
   "execution_count": 24,
   "id": "41f8a69c",
   "metadata": {},
   "outputs": [
    {
     "data": {
      "text/plain": [
       "'no'"
      ]
     },
     "execution_count": 24,
     "metadata": {},
     "output_type": "execute_result"
    }
   ],
   "source": [
    "yes if ('qux'in['foo','bar','baz'])else 'no'"
   ]
  },
  {
   "cell_type": "code",
   "execution_count": 25,
   "id": "e3c737e5",
   "metadata": {},
   "outputs": [],
   "source": [
    "a = 10\n",
    "b = 20\n",
    "m = a if a > b else b"
   ]
  },
  {
   "cell_type": "code",
   "execution_count": 26,
   "id": "b13ba6b0",
   "metadata": {},
   "outputs": [
    {
     "data": {
      "text/plain": [
       "20"
      ]
     },
     "execution_count": 26,
     "metadata": {},
     "output_type": "execute_result"
    }
   ],
   "source": [
    "a = 10\n",
    "b = 20\n",
    "m = a if a > b else b\n",
    "m"
   ]
  },
  {
   "cell_type": "code",
   "execution_count": 27,
   "id": "3c452c09",
   "metadata": {},
   "outputs": [
    {
     "name": "stdout",
     "output_type": "stream",
     "text": [
      "foo\n"
     ]
    }
   ],
   "source": [
    "if True:\n",
    "    pass\n",
    "print('foo')"
   ]
  },
  {
   "cell_type": "code",
   "execution_count": 28,
   "id": "849a6d60",
   "metadata": {},
   "outputs": [
    {
     "name": "stdout",
     "output_type": "stream",
     "text": [
      "4\n",
      "3\n",
      "2\n",
      "1\n",
      "0\n"
     ]
    }
   ],
   "source": [
    "n = 5\n",
    "while n > 0:\n",
    "    n -= 1\n",
    "    print(n)"
   ]
  },
  {
   "cell_type": "code",
   "execution_count": 29,
   "id": "2a62bc82",
   "metadata": {},
   "outputs": [
    {
     "name": "stdout",
     "output_type": "stream",
     "text": [
      "1\n",
      "2\n",
      "3\n",
      "4\n",
      "5\n"
     ]
    }
   ],
   "source": [
    "i = 1\n",
    "while i<6:\n",
    "    print(i)\n",
    "    i += 1"
   ]
  },
  {
   "cell_type": "code",
   "execution_count": 30,
   "id": "6a0129c0",
   "metadata": {},
   "outputs": [
    {
     "name": "stdout",
     "output_type": "stream",
     "text": [
      "4\n",
      "3\n",
      "Loop ended.\n"
     ]
    }
   ],
   "source": [
    "n = 5\n",
    "while n > 0:\n",
    "    n -= 1\n",
    "    if n == 2:\n",
    "        break\n",
    "    print(n)\n",
    "print('Loop ended.')"
   ]
  },
  {
   "cell_type": "code",
   "execution_count": 31,
   "id": "de1629f7",
   "metadata": {},
   "outputs": [
    {
     "name": "stdout",
     "output_type": "stream",
     "text": [
      "4\n",
      "3\n",
      "1\n",
      "0\n",
      "Loop ended.\n"
     ]
    }
   ],
   "source": [
    "n = 5\n",
    "while n > 0:\n",
    "    n -= 1\n",
    "    if n == 2:\n",
    "        continue\n",
    "    print(n)\n",
    "print('Loop ended.')"
   ]
  },
  {
   "cell_type": "code",
   "execution_count": 32,
   "id": "2e9e6092",
   "metadata": {},
   "outputs": [
    {
     "name": "stdout",
     "output_type": "stream",
     "text": [
      "4\n",
      "3\n",
      "2\n",
      "1\n",
      "0\n",
      "Loop done.\n"
     ]
    }
   ],
   "source": [
    "n = 5\n",
    "while n > 0:\n",
    "    n -= 1\n",
    "    print (n)\n",
    "else :\n",
    "    print('Loop done.')"
   ]
  },
  {
   "cell_type": "code",
   "execution_count": 33,
   "id": "a1dce8d0",
   "metadata": {},
   "outputs": [
    {
     "name": "stdout",
     "output_type": "stream",
     "text": [
      "4\n",
      "3\n",
      "2\n"
     ]
    }
   ],
   "source": [
    "n = 5\n",
    "while n > 0:\n",
    "    n -= 1\n",
    "    print(n)\n",
    "    if n == 2:\n",
    "        break\n",
    "else:\n",
    "    print('Loop ended.')"
   ]
  },
  {
   "cell_type": "code",
   "execution_count": 34,
   "id": "7e152e40",
   "metadata": {},
   "outputs": [
    {
     "name": "stdout",
     "output_type": "stream",
     "text": [
      "10\n",
      "M\n",
      "son\n"
     ]
    }
   ],
   "source": [
    "age = int(input())\n",
    "gender = input()\n",
    "\n",
    "if age < 18:\n",
    "    if gender == 'M':\n",
    "        print('son')\n",
    "    else:\n",
    "        print('daughter')\n",
    "elif age >= 18 and age < 65:\n",
    "    if gender == 'M':\n",
    "        print('father')\n",
    "    else:\n",
    "        print('mother')\n",
    "else :\n",
    "    if gender == 'M':\n",
    "        print('grandfather')\n",
    "    else:\n",
    "        print('grandmother')"
   ]
  },
  {
   "cell_type": "code",
   "execution_count": 35,
   "id": "2dac42a0",
   "metadata": {},
   "outputs": [
    {
     "name": "stdout",
     "output_type": "stream",
     "text": [
      "foo\n",
      "> baz\n",
      "> qux\n",
      "bar\n",
      "> baz\n",
      "> qux\n"
     ]
    }
   ],
   "source": [
    "a = ['foo','bar']\n",
    "while len(a):\n",
    "    print(a.pop(0))\n",
    "    \n",
    "    b = ['baz','qux']\n",
    "    \n",
    "    while len(b):\n",
    "        print('>',b.pop(0))"
   ]
  },
  {
   "cell_type": "code",
   "execution_count": 36,
   "id": "3241224e",
   "metadata": {},
   "outputs": [
    {
     "name": "stdout",
     "output_type": "stream",
     "text": [
      "4\n",
      "3\n",
      "2\n",
      "1\n",
      "0\n"
     ]
    }
   ],
   "source": [
    "n = 5\n",
    "while n > 0: n-=1;print(n)"
   ]
  },
  {
   "cell_type": "code",
   "execution_count": 37,
   "id": "07e9771a",
   "metadata": {},
   "outputs": [
    {
     "name": "stdout",
     "output_type": "stream",
     "text": [
      "foo\n",
      "bar\n",
      "baz\n"
     ]
    }
   ],
   "source": [
    "a = ['foo','bar','baz']\n",
    "for i in a:\n",
    "    print(i)"
   ]
  },
  {
   "cell_type": "code",
   "execution_count": 38,
   "id": "4fff0478",
   "metadata": {},
   "outputs": [
    {
     "name": "stdout",
     "output_type": "stream",
     "text": [
      "foo\n",
      "bar\n",
      "baz\n"
     ]
    }
   ],
   "source": [
    "d = {'foo':1,'bar':2,'baz':3}\n",
    "for k in d:\n",
    "    print(k)"
   ]
  },
  {
   "cell_type": "code",
   "execution_count": 39,
   "id": "24282368",
   "metadata": {},
   "outputs": [
    {
     "name": "stdout",
     "output_type": "stream",
     "text": [
      "1\n",
      "2\n",
      "3\n"
     ]
    }
   ],
   "source": [
    "d = {'foo':1,'bar':2,'baz':3}\n",
    "for k in d:\n",
    "    print(d[k])"
   ]
  },
  {
   "cell_type": "code",
   "execution_count": 40,
   "id": "356a47d8",
   "metadata": {},
   "outputs": [
    {
     "name": "stdout",
     "output_type": "stream",
     "text": [
      "1\n",
      "2\n",
      "3\n"
     ]
    }
   ],
   "source": [
    "d = {'foo':1,'bar':2,'baz':3}\n",
    "for k in d.values():\n",
    "    print(k)"
   ]
  },
  {
   "cell_type": "code",
   "execution_count": 41,
   "id": "7d571335",
   "metadata": {},
   "outputs": [
    {
     "name": "stdout",
     "output_type": "stream",
     "text": [
      "foo : 1\n",
      "bar : 2\n",
      "baz : 3\n"
     ]
    }
   ],
   "source": [
    "d = {'foo':1,'bar':2,'baz':3}\n",
    "for k,v in d.items():\n",
    "    print(k,':',v)"
   ]
  },
  {
   "cell_type": "code",
   "execution_count": 42,
   "id": "7f3372c9",
   "metadata": {},
   "outputs": [
    {
     "name": "stdout",
     "output_type": "stream",
     "text": [
      "0\n",
      "1\n",
      "2\n",
      "3\n",
      "4\n"
     ]
    }
   ],
   "source": [
    "for n in (0,1,2,3,4):\n",
    "    print(n)"
   ]
  },
  {
   "cell_type": "code",
   "execution_count": 43,
   "id": "921dc1f0",
   "metadata": {},
   "outputs": [
    {
     "name": "stdout",
     "output_type": "stream",
     "text": [
      "0\n",
      "1\n",
      "2\n",
      "3\n",
      "4\n"
     ]
    }
   ],
   "source": [
    "x = range(5)\n",
    "for n in x:\n",
    "    print(n)"
   ]
  },
  {
   "cell_type": "code",
   "execution_count": 44,
   "id": "5aebab59",
   "metadata": {},
   "outputs": [
    {
     "name": "stdout",
     "output_type": "stream",
     "text": [
      "foo\n"
     ]
    }
   ],
   "source": [
    "for i in ['foo','bar','baz','qux']:\n",
    "    if 'b' in i:\n",
    "        break\n",
    "    print(i)"
   ]
  },
  {
   "cell_type": "code",
   "execution_count": 45,
   "id": "08c9db4e",
   "metadata": {},
   "outputs": [
    {
     "name": "stdout",
     "output_type": "stream",
     "text": [
      "foo\n",
      "qux\n"
     ]
    }
   ],
   "source": [
    "for i in ['foo','bar','baz','qux']:\n",
    "    if 'b' in i:\n",
    "        continue\n",
    "    print(i)"
   ]
  },
  {
   "cell_type": "code",
   "execution_count": null,
   "id": "66679e8e",
   "metadata": {},
   "outputs": [],
   "source": []
  }
 ],
 "metadata": {
  "kernelspec": {
   "display_name": "Python 3 (ipykernel)",
   "language": "python",
   "name": "python3"
  },
  "language_info": {
   "codemirror_mode": {
    "name": "ipython",
    "version": 3
   },
   "file_extension": ".py",
   "mimetype": "text/x-python",
   "name": "python",
   "nbconvert_exporter": "python",
   "pygments_lexer": "ipython3",
   "version": "3.9.12"
  }
 },
 "nbformat": 4,
 "nbformat_minor": 5
}
