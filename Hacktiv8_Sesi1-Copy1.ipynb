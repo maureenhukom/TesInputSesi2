{
 "cells": [
  {
   "cell_type": "code",
   "execution_count": 1,
   "id": "b5122ee4",
   "metadata": {},
   "outputs": [
    {
     "name": "stdout",
     "output_type": "stream",
     "text": [
      "5\n"
     ]
    }
   ],
   "source": [
    "x = 5\n",
    "print(x)\n"
   ]
  },
  {
   "cell_type": "code",
   "execution_count": 2,
   "id": "877a1536",
   "metadata": {},
   "outputs": [
    {
     "name": "stdout",
     "output_type": "stream",
     "text": [
      "11\n"
     ]
    }
   ],
   "source": [
    "x = 5\n",
    "y = 6\n",
    "print(x+y)\n"
   ]
  },
  {
   "cell_type": "code",
   "execution_count": 3,
   "id": "a8b7c83d",
   "metadata": {},
   "outputs": [
    {
     "name": "stdout",
     "output_type": "stream",
     "text": [
      "124\n"
     ]
    }
   ],
   "source": [
    "print(123+1)"
   ]
  },
  {
   "cell_type": "code",
   "execution_count": 4,
   "id": "263d1c65",
   "metadata": {},
   "outputs": [
    {
     "name": "stdout",
     "output_type": "stream",
     "text": [
      "10\n",
      "<class 'int'>\n"
     ]
    }
   ],
   "source": [
    "print(10)\n",
    "print(type(10))"
   ]
  },
  {
   "cell_type": "code",
   "execution_count": 5,
   "id": "2847bdc2",
   "metadata": {},
   "outputs": [
    {
     "name": "stdout",
     "output_type": "stream",
     "text": [
      "4.2\n",
      "<class 'float'>\n"
     ]
    }
   ],
   "source": [
    "print(4.2)\n",
    "print(type(4.2))"
   ]
  },
  {
   "cell_type": "code",
   "execution_count": 6,
   "id": "aff02f1d",
   "metadata": {},
   "outputs": [
    {
     "name": "stdout",
     "output_type": "stream",
     "text": [
      "4\n",
      "<class 'str'>\n"
     ]
    }
   ],
   "source": [
    "print('4')\n",
    "print(type('4'))"
   ]
  },
  {
   "cell_type": "code",
   "execution_count": 7,
   "id": "5ceac30e",
   "metadata": {},
   "outputs": [
    {
     "name": "stdout",
     "output_type": "stream",
     "text": [
      "True\n",
      "<class 'bool'>\n"
     ]
    }
   ],
   "source": [
    "x = True\n",
    "print(x)\n",
    "print(type(x))"
   ]
  },
  {
   "cell_type": "code",
   "execution_count": 8,
   "id": "29f59e07",
   "metadata": {},
   "outputs": [
    {
     "name": "stdout",
     "output_type": "stream",
     "text": [
      "<class 'bool'>\n",
      "<class 'str'>\n"
     ]
    }
   ],
   "source": [
    "print(type(True))\n",
    "print(type('True'))"
   ]
  },
  {
   "cell_type": "code",
   "execution_count": 9,
   "id": "5a1a6f43",
   "metadata": {},
   "outputs": [
    {
     "name": "stdout",
     "output_type": "stream",
     "text": [
      "23\n",
      "sekarang berubah\n"
     ]
    }
   ],
   "source": [
    "var = 23\n",
    "print(var)\n",
    "var = 'sekarang berubah'\n",
    "print(var)"
   ]
  },
  {
   "cell_type": "code",
   "execution_count": 10,
   "id": "8ca3faa8",
   "metadata": {},
   "outputs": [
    {
     "name": "stdout",
     "output_type": "stream",
     "text": [
      "6\n",
      "n*x\n"
     ]
    }
   ],
   "source": [
    "n = 3\n",
    "x = 2\n",
    "print(n*x)\n",
    "print('n*x')"
   ]
  },
  {
   "cell_type": "code",
   "execution_count": 11,
   "id": "5f8ee6f2",
   "metadata": {},
   "outputs": [
    {
     "ename": "SyntaxError",
     "evalue": "invalid syntax (2743147439.py, line 3)",
     "output_type": "error",
     "traceback": [
      "\u001b[0;36m  Input \u001b[0;32mIn [11]\u001b[0;36m\u001b[0m\n\u001b[0;31m    print(a;b;c)\u001b[0m\n\u001b[0m           ^\u001b[0m\n\u001b[0;31mSyntaxError\u001b[0m\u001b[0;31m:\u001b[0m invalid syntax\n"
     ]
    }
   ],
   "source": [
    "a = b = c = 100\n",
    "print(a,b,c)\n",
    "print(a;b;c)"
   ]
  },
  {
   "cell_type": "code",
   "execution_count": 12,
   "id": "ef7e1b30",
   "metadata": {},
   "outputs": [
    {
     "ename": "SyntaxError",
     "evalue": "invalid syntax (2380259588.py, line 3)",
     "output_type": "error",
     "traceback": [
      "\u001b[0;36m  Input \u001b[0;32mIn [12]\u001b[0;36m\u001b[0m\n\u001b[0;31m    print(a';'b';'c)\u001b[0m\n\u001b[0m           ^\u001b[0m\n\u001b[0;31mSyntaxError\u001b[0m\u001b[0;31m:\u001b[0m invalid syntax\n"
     ]
    }
   ],
   "source": [
    "a = b = c = 100\n",
    "print(a,b,c)\n",
    "print(a';'b';'c)"
   ]
  },
  {
   "cell_type": "code",
   "execution_count": 13,
   "id": "587d889d",
   "metadata": {},
   "outputs": [
    {
     "name": "stdout",
     "output_type": "stream",
     "text": [
      "100 100 100\n"
     ]
    }
   ],
   "source": [
    "a=b=c=100\n",
    "print(a,b,c)\n"
   ]
  },
  {
   "cell_type": "code",
   "execution_count": 14,
   "id": "e43eed52",
   "metadata": {},
   "outputs": [
    {
     "data": {
      "text/plain": [
       "6"
      ]
     },
     "execution_count": 14,
     "metadata": {},
     "output_type": "execute_result"
    }
   ],
   "source": [
    "a = 5\n",
    "b = 2\n",
    "a-b+3"
   ]
  },
  {
   "cell_type": "code",
   "execution_count": 15,
   "id": "9485b756",
   "metadata": {},
   "outputs": [
    {
     "name": "stdout",
     "output_type": "stream",
     "text": [
      "7\n",
      "1\n",
      "1.3333333333333333\n",
      "12\n",
      "64\n",
      "1\n"
     ]
    }
   ],
   "source": [
    "a = 4\n",
    "b=3\n",
    "print(a+b)\n",
    "print(a-b)\n",
    "print(a/b)\n",
    "print(a*b)\n",
    "print(a**b)\n",
    "print(a%b)"
   ]
  },
  {
   "cell_type": "code",
   "execution_count": 16,
   "id": "063d2dd5",
   "metadata": {},
   "outputs": [
    {
     "data": {
      "text/plain": [
       "3"
      ]
     },
     "execution_count": 16,
     "metadata": {},
     "output_type": "execute_result"
    }
   ],
   "source": [
    "a = 3\n",
    "b = 4\n",
    "a%b"
   ]
  },
  {
   "cell_type": "code",
   "execution_count": 17,
   "id": "1bcac4ad",
   "metadata": {},
   "outputs": [
    {
     "data": {
      "text/plain": [
       "2.0"
      ]
     },
     "execution_count": 17,
     "metadata": {},
     "output_type": "execute_result"
    }
   ],
   "source": [
    "10/5"
   ]
  },
  {
   "cell_type": "code",
   "execution_count": 18,
   "id": "a18fd90d",
   "metadata": {},
   "outputs": [
    {
     "name": "stdout",
     "output_type": "stream",
     "text": [
      "False\n",
      "True\n",
      "True\n"
     ]
    }
   ],
   "source": [
    "a = 10\n",
    "b = 20\n",
    "print(a==b)\n",
    "print(a<=b)\n",
    "print(a!=b)"
   ]
  },
  {
   "cell_type": "code",
   "execution_count": 19,
   "id": "1289428c",
   "metadata": {},
   "outputs": [
    {
     "name": "stdout",
     "output_type": "stream",
     "text": [
      "False\n",
      "True\n",
      "True\n",
      "False\n"
     ]
    }
   ],
   "source": [
    "a = 10\n",
    "b = 20\n",
    "print(a==b)\n",
    "print(a<=b)\n",
    "print(a!=b)\n",
    "print(a>=b)"
   ]
  },
  {
   "cell_type": "code",
   "execution_count": 20,
   "id": "720e6954",
   "metadata": {},
   "outputs": [
    {
     "name": "stdout",
     "output_type": "stream",
     "text": [
      "True\n",
      "True\n",
      "False\n",
      "True\n"
     ]
    }
   ],
   "source": [
    "a = 20\n",
    "b = 20\n",
    "print(a==b)\n",
    "print(a<=b)\n",
    "print(a!=b)\n",
    "print(a>=b)"
   ]
  },
  {
   "cell_type": "code",
   "execution_count": 21,
   "id": "e87cb9dc",
   "metadata": {},
   "outputs": [
    {
     "name": "stdout",
     "output_type": "stream",
     "text": [
      "100\n"
     ]
    }
   ],
   "source": [
    "n = 100\n",
    "n\n",
    "print(n)"
   ]
  },
  {
   "cell_type": "code",
   "execution_count": 22,
   "id": "96cd4cf5",
   "metadata": {},
   "outputs": [
    {
     "name": "stdout",
     "output_type": "stream",
     "text": [
      "100\n"
     ]
    },
    {
     "data": {
      "text/plain": [
       "100"
      ]
     },
     "execution_count": 22,
     "metadata": {},
     "output_type": "execute_result"
    }
   ],
   "source": [
    "n = 100\n",
    "print(n)\n",
    "\n",
    "n"
   ]
  },
  {
   "cell_type": "code",
   "execution_count": 23,
   "id": "cad10fd7",
   "metadata": {},
   "outputs": [
    {
     "name": "stdout",
     "output_type": "stream",
     "text": [
      "foobar\n",
      "foobarbaz\n",
      "foobarbaz\n"
     ]
    }
   ],
   "source": [
    "a = 'foo'\n",
    "b = 'bar'\n",
    "c = 'baz'\n",
    "print(a+b)\n",
    "print(a+b+c)\n",
    "print('foo'+'bar'+'baz')"
   ]
  },
  {
   "cell_type": "code",
   "execution_count": 24,
   "id": "39d0a791",
   "metadata": {},
   "outputs": [
    {
     "data": {
      "text/plain": [
       "'foo.foo.foo.foo.'"
      ]
     },
     "execution_count": 24,
     "metadata": {},
     "output_type": "execute_result"
    }
   ],
   "source": [
    "a = 'foo'\n",
    "b = 'foo.'\n",
    "a*4\n",
    "b*4"
   ]
  },
  {
   "cell_type": "code",
   "execution_count": 25,
   "id": "f73acef3",
   "metadata": {},
   "outputs": [
    {
     "data": {
      "text/plain": [
       "'foofoofoofoo'"
      ]
     },
     "execution_count": 25,
     "metadata": {},
     "output_type": "execute_result"
    }
   ],
   "source": [
    "a = 'foo'\n",
    "b = 'foo.'\n",
    "a*4"
   ]
  },
  {
   "cell_type": "code",
   "execution_count": 26,
   "id": "93b4f823",
   "metadata": {},
   "outputs": [
    {
     "name": "stdout",
     "output_type": "stream",
     "text": [
      "foofoofoofoo\n",
      "foo.foo.foo.foo.\n"
     ]
    }
   ],
   "source": [
    "a = 'foo'\n",
    "b = 'foo.'\n",
    "print(a*4)\n",
    "print(b*4)"
   ]
  },
  {
   "cell_type": "code",
   "execution_count": 27,
   "id": "0f5d177f",
   "metadata": {},
   "outputs": [
    {
     "name": "stdout",
     "output_type": "stream",
     "text": [
      "<built-in method capitalize of str object at 0x7fbeb999fbf0>\n"
     ]
    }
   ],
   "source": [
    "s = 'HACKtivate'\n",
    "print(s.capitalize)"
   ]
  },
  {
   "cell_type": "code",
   "execution_count": 28,
   "id": "2e32d3df",
   "metadata": {},
   "outputs": [
    {
     "name": "stdout",
     "output_type": "stream",
     "text": [
      "Hacktivate\n"
     ]
    }
   ],
   "source": [
    "s = 'HACKtivate'\n",
    "print(s.capitalize())"
   ]
  },
  {
   "cell_type": "code",
   "execution_count": 29,
   "id": "6cbf75a9",
   "metadata": {},
   "outputs": [
    {
     "name": "stdout",
     "output_type": "stream",
     "text": [
      "Hacktivate\n",
      "hacktivate\n"
     ]
    }
   ],
   "source": [
    "s = 'HACKtivate'\n",
    "print(s.capitalize())\n",
    "print(s.lower())"
   ]
  },
  {
   "cell_type": "code",
   "execution_count": 30,
   "id": "58fd9520",
   "metadata": {},
   "outputs": [
    {
     "ename": "NameError",
     "evalue": "name 'lol' is not defined",
     "output_type": "error",
     "traceback": [
      "\u001b[0;31m---------------------------------------------------------------------------\u001b[0m",
      "\u001b[0;31mNameError\u001b[0m                                 Traceback (most recent call last)",
      "Input \u001b[0;32mIn [30]\u001b[0m, in \u001b[0;36m<cell line: 1>\u001b[0;34m()\u001b[0m\n\u001b[0;32m----> 1\u001b[0m s \u001b[38;5;241m=\u001b[39m \u001b[43mlol\u001b[49m\n\u001b[1;32m      2\u001b[0m s \u001b[38;5;129;01min\u001b[39;00m prolly\n",
      "\u001b[0;31mNameError\u001b[0m: name 'lol' is not defined"
     ]
    }
   ],
   "source": [
    "s = lol\n",
    "s in prolly"
   ]
  },
  {
   "cell_type": "code",
   "execution_count": 31,
   "id": "e910652b",
   "metadata": {},
   "outputs": [
    {
     "data": {
      "text/plain": [
       "False"
      ]
     },
     "execution_count": 31,
     "metadata": {},
     "output_type": "execute_result"
    }
   ],
   "source": [
    "s = 'lol'\n",
    "s in 'prolly'"
   ]
  },
  {
   "cell_type": "code",
   "execution_count": 32,
   "id": "952d6f14",
   "metadata": {},
   "outputs": [
    {
     "data": {
      "text/plain": [
       "True"
      ]
     },
     "execution_count": 32,
     "metadata": {},
     "output_type": "execute_result"
    }
   ],
   "source": [
    "s = 'lol'\n",
    "s in 'prlolly'"
   ]
  },
  {
   "cell_type": "code",
   "execution_count": 33,
   "id": "40b92eda",
   "metadata": {},
   "outputs": [
    {
     "name": "stdout",
     "output_type": "stream",
     "text": [
      "False\n",
      "True\n"
     ]
    }
   ],
   "source": [
    "s = 'lol'\n",
    "print(s in 'prolly')\n",
    "print(s in 'prlolly')"
   ]
  },
  {
   "cell_type": "code",
   "execution_count": 34,
   "id": "34645780",
   "metadata": {},
   "outputs": [
    {
     "ename": "NameError",
     "evalue": "name 'HacKtiv8' is not defined",
     "output_type": "error",
     "traceback": [
      "\u001b[0;31m---------------------------------------------------------------------------\u001b[0m",
      "\u001b[0;31mNameError\u001b[0m                                 Traceback (most recent call last)",
      "Input \u001b[0;32mIn [34]\u001b[0m, in \u001b[0;36m<cell line: 1>\u001b[0;34m()\u001b[0m\n\u001b[0;32m----> 1\u001b[0m s \u001b[38;5;241m=\u001b[39m \u001b[43mHacKtiv8\u001b[49m\n\u001b[1;32m      2\u001b[0m \u001b[38;5;28mprint\u001b[39m(s\u001b[38;5;241m.\u001b[39mcapitalize())\n\u001b[1;32m      3\u001b[0m \u001b[38;5;28mprint\u001b[39m(s\u001b[38;5;241m.\u001b[39mlower())\n",
      "\u001b[0;31mNameError\u001b[0m: name 'HacKtiv8' is not defined"
     ]
    }
   ],
   "source": [
    "s = HacKtiv8\n",
    "print(s.capitalize())\n",
    "print(s.lower())\n",
    "print(s.swapcase())\n",
    "print(s.title())\n",
    "print(s.upper())"
   ]
  },
  {
   "cell_type": "code",
   "execution_count": 35,
   "id": "48144f2b",
   "metadata": {},
   "outputs": [
    {
     "name": "stdout",
     "output_type": "stream",
     "text": [
      "Hacktiv8\n",
      "hacktiv8\n",
      "hACkTIV8\n",
      "Hacktiv8\n",
      "HACKTIV8\n"
     ]
    }
   ],
   "source": [
    "s = 'HacKtiv8'\n",
    "print(s.capitalize())\n",
    "print(s.lower())\n",
    "print(s.swapcase())\n",
    "print(s.title())\n",
    "print(s.upper())"
   ]
  },
  {
   "cell_type": "code",
   "execution_count": 36,
   "id": "c15aed92",
   "metadata": {},
   "outputs": [
    {
     "name": "stdout",
     "output_type": "stream",
     "text": [
      "['foo', 'bar', 'baz', 'pro']\n"
     ]
    }
   ],
   "source": [
    "a = ['foo','bar','baz','pro']\n",
    "print(a)"
   ]
  },
  {
   "cell_type": "code",
   "execution_count": 37,
   "id": "2d619fc1",
   "metadata": {},
   "outputs": [
    {
     "data": {
      "text/plain": [
       "False"
      ]
     },
     "execution_count": 37,
     "metadata": {},
     "output_type": "execute_result"
    }
   ],
   "source": [
    "a = ['foo','bar','baz','pro']\n",
    "b = ['fdo','bar','baz','pro']\n",
    "a==b"
   ]
  },
  {
   "cell_type": "code",
   "execution_count": 38,
   "id": "5b17a5cf",
   "metadata": {},
   "outputs": [
    {
     "name": "stdout",
     "output_type": "stream",
     "text": [
      "bar\n",
      "foo\n",
      "dos\n"
     ]
    }
   ],
   "source": [
    "a = ['foo','bar','baz','pro','dos']\n",
    "print(a[1])\n",
    "print(a[0])\n",
    "print(a[4])"
   ]
  },
  {
   "cell_type": "code",
   "execution_count": 39,
   "id": "391357cc",
   "metadata": {},
   "outputs": [
    {
     "name": "stdout",
     "output_type": "stream",
     "text": [
      "dos\n",
      "pro\n",
      "foo\n"
     ]
    }
   ],
   "source": [
    "a = ['foo','bar','baz','pro','dos']\n",
    "print(a[-1])\n",
    "print(a[-2])\n",
    "print(a[-5])"
   ]
  },
  {
   "cell_type": "code",
   "execution_count": 40,
   "id": "abf73e05",
   "metadata": {},
   "outputs": [
    {
     "name": "stdout",
     "output_type": "stream",
     "text": [
      "['bar', 'baz', 'pro']\n"
     ]
    }
   ],
   "source": [
    "a = ['foo','bar','baz','pro','dos']\n",
    "print(a[1:4])"
   ]
  },
  {
   "cell_type": "code",
   "execution_count": 41,
   "id": "02ad7d00",
   "metadata": {},
   "outputs": [
    {
     "name": "stdout",
     "output_type": "stream",
     "text": [
      "['foo', 'bar', 'baz', 'pro', 'dos', 'dra', 'sed']\n",
      "['foo', 'bar', 'baz', 'pro', 'dos', 'foo', 'bar', 'baz', 'pro', 'dos']\n"
     ]
    }
   ],
   "source": [
    "a = ['foo','bar','baz','pro','dos']\n",
    "print(a+['dra','sed'])\n",
    "print(a*2)"
   ]
  },
  {
   "cell_type": "code",
   "execution_count": 42,
   "id": "21fa76d9",
   "metadata": {},
   "outputs": [
    {
     "name": "stdout",
     "output_type": "stream",
     "text": [
      "['foo', 'bar', 'baz', 'pro', 'dos']\n",
      "5\n",
      "bar\n",
      "pro\n"
     ]
    }
   ],
   "source": [
    "a = ['foo','bar','baz','pro','dos']\n",
    "print(a)\n",
    "print(len(a))\n",
    "print(min(a))\n",
    "print(max(a))"
   ]
  },
  {
   "cell_type": "code",
   "execution_count": 43,
   "id": "82434273",
   "metadata": {},
   "outputs": [
    {
     "name": "stdout",
     "output_type": "stream",
     "text": [
      "['foo', 'bar', 'baz', 'pro', 'dos']\n"
     ]
    }
   ],
   "source": [
    "a = ['foo','bar','baz','pro','dos']\n",
    "print(a)\n",
    "a[0] = 'sel'\n",
    "a[-1] = 'lav'"
   ]
  },
  {
   "cell_type": "code",
   "execution_count": 44,
   "id": "154fd6c9",
   "metadata": {},
   "outputs": [
    {
     "name": "stdout",
     "output_type": "stream",
     "text": [
      "['foo', 'bar', 'baz', 'pro', 'dos']\n",
      "['sel', 'bar', 'baz', 'pro', 'lav']\n"
     ]
    }
   ],
   "source": [
    "a = ['foo','bar','baz','pro','dos']\n",
    "print(a)\n",
    "a[0] = 'sel'\n",
    "a[-1] = 'lav'\n",
    "print(a)"
   ]
  },
  {
   "cell_type": "code",
   "execution_count": 45,
   "id": "5cd2163f",
   "metadata": {},
   "outputs": [
    {
     "name": "stdout",
     "output_type": "stream",
     "text": [
      "['foo', 'bar', 'baz', 'pro', 'dos']\n",
      "[2, 'bar', 'baz', 'pro', 3]\n"
     ]
    }
   ],
   "source": [
    "a = ['foo','bar','baz','pro','dos']\n",
    "print(a)\n",
    "a[0] = 2\n",
    "a[-1] = 3\n",
    "print(a)"
   ]
  },
  {
   "cell_type": "code",
   "execution_count": 46,
   "id": "e6251551",
   "metadata": {},
   "outputs": [
    {
     "name": "stdout",
     "output_type": "stream",
     "text": [
      "baz\n",
      "pro\n"
     ]
    }
   ],
   "source": [
    "a = ['foo','bar','baz','pro','dos']\n",
    "print(a[2])\n",
    "del(a[2])\n",
    "print(a[2])"
   ]
  },
  {
   "cell_type": "code",
   "execution_count": 47,
   "id": "77d5c356",
   "metadata": {},
   "outputs": [
    {
     "name": "stdout",
     "output_type": "stream",
     "text": [
      "['bar', 'baz']\n",
      "['foo', 1.1, 2.2, 'pro', 'dos']\n"
     ]
    }
   ],
   "source": [
    "a = ['foo','bar','baz','pro','dos']\n",
    "print(a[1:3])\n",
    "a[1:3]=[1.1,2.2]\n",
    "print(a)"
   ]
  },
  {
   "cell_type": "code",
   "execution_count": 48,
   "id": "b3275597",
   "metadata": {},
   "outputs": [
    {
     "name": "stdout",
     "output_type": "stream",
     "text": [
      "('foo', 'bar', 'baz', 'pro', 'dos')\n",
      "['foo', 'bar', 'baz', 'pro', 'dos']\n"
     ]
    }
   ],
   "source": [
    "a = ('foo','bar','baz','pro','dos')\n",
    "print(a)\n",
    "a = list(a)\n",
    "print(a)"
   ]
  },
  {
   "cell_type": "code",
   "execution_count": 49,
   "id": "79da0010",
   "metadata": {},
   "outputs": [
    {
     "name": "stdout",
     "output_type": "stream",
     "text": [
      "bar\n",
      "('foo', 'bar', 'baz', 'pro', 'dos')\n",
      "['foo', 'bar', 'baz', 'pro', 'dos']\n",
      "['foo', 'bar', 2, 3, 'dos']\n"
     ]
    }
   ],
   "source": [
    "a = ('foo','bar','baz','pro','dos')\n",
    "print(a[1])\n",
    "print(a)\n",
    "a = list(a)\n",
    "print(a)\n",
    "a[2:4]=[2,3]\n",
    "print(a)"
   ]
  },
  {
   "cell_type": "code",
   "execution_count": 50,
   "id": "35a55c3a",
   "metadata": {},
   "outputs": [
    {
     "name": "stdout",
     "output_type": "stream",
     "text": [
      "bar\n",
      "('foo', 'bar', 'baz', 'pro', 'dos')\n",
      "['foo', 'bar', 'baz', 'pro', 'dos']\n",
      "['foo', 'bar', 2, 3, 'dos']\n",
      "['foo', 'bar', 2, 3]\n",
      "bar\n"
     ]
    }
   ],
   "source": [
    "a = ('foo','bar','baz','pro','dos')\n",
    "print(a[1])\n",
    "print(a)\n",
    "a = list(a)\n",
    "print(a)\n",
    "a[2:4]=[2,3]\n",
    "print(a)\n",
    "print(a[0:4])\n",
    "print(a[1])"
   ]
  },
  {
   "cell_type": "code",
   "execution_count": 51,
   "id": "54d249eb",
   "metadata": {},
   "outputs": [
    {
     "data": {
      "text/plain": [
       "'a'"
      ]
     },
     "execution_count": 51,
     "metadata": {},
     "output_type": "execute_result"
    }
   ],
   "source": [
    "(s1,s2,s3)=('a','b','c')\n",
    "s1"
   ]
  },
  {
   "cell_type": "code",
   "execution_count": null,
   "id": "97288ee6",
   "metadata": {},
   "outputs": [],
   "source": []
  }
 ],
 "metadata": {
  "kernelspec": {
   "display_name": "Python 3 (ipykernel)",
   "language": "python",
   "name": "python3"
  },
  "language_info": {
   "codemirror_mode": {
    "name": "ipython",
    "version": 3
   },
   "file_extension": ".py",
   "mimetype": "text/x-python",
   "name": "python",
   "nbconvert_exporter": "python",
   "pygments_lexer": "ipython3",
   "version": "3.9.12"
  }
 },
 "nbformat": 4,
 "nbformat_minor": 5
}
